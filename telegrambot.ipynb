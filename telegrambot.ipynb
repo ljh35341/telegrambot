{
 "cells": [
  {
   "cell_type": "markdown",
   "metadata": {},
   "source": [
    "# 사전준비\n",
    "-출처: https://blog.psangwoo.com/coding/2016/12/08/python-telegram-bot-1.html"
   ]
  },
  {
   "cell_type": "markdown",
   "metadata": {},
   "source": [
    "pip를 이용할 경우"
   ]
  },
  {
   "cell_type": "code",
   "execution_count": null,
   "metadata": {},
   "outputs": [],
   "source": [
    "$pip install python-telegram-bot --upgrade"
   ]
  },
  {
   "cell_type": "markdown",
   "metadata": {},
   "source": [
    "소스코드를 이용하여 직접 설치할 경우"
   ]
  },
  {
   "cell_type": "code",
   "execution_count": null,
   "metadata": {},
   "outputs": [],
   "source": [
    "$git clone https://github.com/python-telegram-bot/python-telegram-bot\n",
    "$cd python-telegram-bot\n",
    "$python setup.py install"
   ]
  },
  {
   "cell_type": "markdown",
   "metadata": {},
   "source": [
    "bothfather  "
   ]
  },
  {
   "cell_type": "code",
   "execution_count": null,
   "metadata": {},
   "outputs": [],
   "source": [
    "/start  \n",
    "/newbot  \n",
    "<봇이름>  \n",
    "<봇계정명> # OOO_bot  \n",
    "token 주소 저장  "
   ]
  },
  {
   "cell_type": "markdown",
   "metadata": {},
   "source": [
    "# Example1\n",
    "-출처: https://vmpo.tistory.com/85"
   ]
  },
  {
   "cell_type": "code",
   "execution_count": null,
   "metadata": {},
   "outputs": [],
   "source": [
    "import telegram\n",
    "telgm_token = '105923337:AAEH3cETdpXWyoKpLnAv-vFvYF6ze3k' #token은 예시입니다.\n",
    "bot = telegram.Bot(token = telgm_token)\n",
    "updates = bot.getUpdates()\n",
    "for i in updates:\n",
    "    print(i)"
   ]
  },
  {
   "cell_type": "code",
   "execution_count": null,
   "metadata": {},
   "outputs": [],
   "source": [
    "import telegram\n",
    "telgm_token = '105923337:AAEH3cETdpXWyoKpLnAv-vFvYF6ze3k'\n",
    "bot = telegram.Bot(token = telgm_token)\n",
    "bot.sendMessage(chat_id = '676149244', text=\"안녕하세요 GGCoding 채봇입니다.\") #id도 예시입니다."
   ]
  },
  {
   "cell_type": "markdown",
   "metadata": {},
   "source": [
    "# Example2\n",
    "-chat_id: 최신 유저가 아닌 특정 유저에게만 메시지를 보내고 싶다면 chat_id는 직접 입력해준다.  \n",
    "-출처: https://blog.psangwoo.com/coding/2016/12/08/python-telegram-bot-1.html"
   ]
  },
  {
   "cell_type": "code",
   "execution_count": null,
   "metadata": {},
   "outputs": [],
   "source": [
    "import telegram   #텔레그램 모듈을 가져옵니다.\n",
    "my_token = '여기에 토큰을 입력해 주세요'   #토큰을 변수에 저장합니다.\n",
    "bot = telegram.Bot(token = my_token)   #bot을 선언합니다.\n",
    "updates = bot.getUpdates()  #업데이트 내역을 받아옵니다.\n",
    "for u in updates :   # 내역중 메세지를 출력합니다.\n",
    "    print(u.message) #수신한 텍스트(내용)만 보려면 u.message.text를 사용하면 됩니다.\n",
    "chat_id = bot.getUpdates()[-1].message.chat.id #가장 최근에 온 메세지의 chat id를 가져옵니다\n",
    "bot.sendMessage(chat_id = chat_id, text=\"저는 봇입니다.\")"
   ]
  },
  {
   "cell_type": "code",
   "execution_count": null,
   "metadata": {},
   "outputs": [],
   "source": []
  },
  {
   "cell_type": "code",
   "execution_count": null,
   "metadata": {},
   "outputs": [],
   "source": []
  },
  {
   "cell_type": "code",
   "execution_count": null,
   "metadata": {},
   "outputs": [],
   "source": []
  },
  {
   "cell_type": "code",
   "execution_count": null,
   "metadata": {},
   "outputs": [],
   "source": []
  },
  {
   "cell_type": "code",
   "execution_count": null,
   "metadata": {},
   "outputs": [],
   "source": []
  },
  {
   "cell_type": "code",
   "execution_count": null,
   "metadata": {},
   "outputs": [],
   "source": []
  },
  {
   "cell_type": "markdown",
   "metadata": {},
   "source": [
    "# Example2"
   ]
  },
  {
   "cell_type": "code",
   "execution_count": null,
   "metadata": {},
   "outputs": [],
   "source": [
    "import telegram   #텔레그램 모듈을 가져옵니다.\n",
    "my_token = '여기에 토큰을 입력해 주세요'   #토큰을 변수에 저장합니다.\n",
    "bot = telegram.Bot(token = my_token)   #bot을 선언합니다.\n",
    "updates = bot.getUpdates()  #업데이트 내역을 받아옵니다.\n",
    "for u in updates :   # 내역중 메세지를 출력합니다.\n",
    "    print(u.message)"
   ]
  },
  {
   "cell_type": "code",
   "execution_count": null,
   "metadata": {},
   "outputs": [],
   "source": [
    "# 여기서는 메세지를 받고 상황에 맞는 데이터를 주기 위한 예제 입니다. \n",
    "from telegram.ext import Updater\n",
    "updater = Updater(token='TOKEN')\n",
    "dispatcher = updater.dispatcher #dispatcher는 이벤트 왔을때 처리해줄수 있는 객체 입니다. \n",
    "\n",
    "#아래와 같이 start 함수를 만들어 놓습니다. \n",
    "def start(bot, update):\n",
    "    bot.send_message(chat_id=update.message.chat_id, text=\"I'm a bot, please talk to me!\")\n",
    "\n",
    "from telegram.ext import CommandHandler\n",
    "    start_handler = CommandHandler('start', start)\n",
    "    dispatcher.add_handler(start_handler)\n",
    "    updater.start_polling()\n",
    "\n",
    "#여기서 CommandHandler 는 /start 메세지 를 들어 올때는 의미합니다 / 가 붙으면 커맨더 명령이라고 인식 합니다. \n",
    "# 그리고 dispatcher 에 해당 핸들러를 추가 해 줍니다. \n",
    "# 그럼/start 채팅이 홨을때 update.message.chat_id-> /start 메세지를 보낸 ID 에 \n",
    "# \"I'm a bot, please talk to me!\" 을 보냅니다. "
   ]
  },
  {
   "cell_type": "code",
   "execution_count": null,
   "metadata": {},
   "outputs": [],
   "source": []
  },
  {
   "cell_type": "code",
   "execution_count": null,
   "metadata": {},
   "outputs": [],
   "source": []
  },
  {
   "cell_type": "code",
   "execution_count": null,
   "metadata": {},
   "outputs": [],
   "source": []
  },
  {
   "cell_type": "code",
   "execution_count": null,
   "metadata": {},
   "outputs": [],
   "source": []
  },
  {
   "cell_type": "code",
   "execution_count": null,
   "metadata": {},
   "outputs": [],
   "source": []
  },
  {
   "cell_type": "code",
   "execution_count": null,
   "metadata": {},
   "outputs": [],
   "source": []
  },
  {
   "cell_type": "code",
   "execution_count": null,
   "metadata": {},
   "outputs": [],
   "source": []
  }
 ],
 "metadata": {
  "kernelspec": {
   "display_name": "Python 3",
   "language": "python",
   "name": "python3"
  },
  "language_info": {
   "codemirror_mode": {
    "name": "ipython",
    "version": 3
   },
   "file_extension": ".py",
   "mimetype": "text/x-python",
   "name": "python",
   "nbconvert_exporter": "python",
   "pygments_lexer": "ipython3",
   "version": "3.7.3"
  }
 },
 "nbformat": 4,
 "nbformat_minor": 2
}
